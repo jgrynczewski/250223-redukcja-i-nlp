{
 "cells": [
  {
   "cell_type": "markdown",
   "id": "fa4c7427-0e2a-494e-9a69-450dc18abcad",
   "metadata": {},
   "source": [
    "### SVD - kompresja obrazu"
   ]
  },
  {
   "cell_type": "code",
   "execution_count": null,
   "id": "f179691a-f837-4321-8c03-8ae257a67501",
   "metadata": {},
   "outputs": [],
   "source": [
    "from matplotlib.image import imread\n",
    "import matplotlib.pyplot as plt\n",
    "import numpy as np\n",
    "import os\n",
    "# plt.rcParams['figure.figsize'] = [16, 8]\n",
    "\n",
    "\n",
    "A = imread(os.path.join('..','Dane','Obrazy','dog.jpg'))\n",
    "X = np.mean(A, -1); # Convert RGB to grayscale\n",
    "print(X.shape)\n",
    "\n",
    "img = plt.imshow(X)\n",
    "img.set_cmap('gray')\n",
    "plt.axis('off')\n",
    "plt.show()\n"
   ]
  },
  {
   "cell_type": "code",
   "execution_count": null,
   "id": "874e9610-6715-43d6-b268-32af77aec0fc",
   "metadata": {},
   "outputs": [],
   "source": [
    "U, S, VT = np.linalg.svd(X,full_matrices=False)\n",
    "S = np.diag(S)\n",
    "\n",
    "j = 0\n",
    "for r in (5, 20, 100):\n",
    "    # Construct approximate image\n",
    "    Xapprox = U[:,:r] @ S[0:r,:r] @ VT[:r,:]\n",
    "    plt.figure(j+1)\n",
    "    j += 1\n",
    "    img = plt.imshow(Xapprox)\n",
    "    img.set_cmap('gray')\n",
    "    plt.axis('off')\n",
    "    plt.title('r = ' + str(r))\n",
    "    plt.show()"
   ]
  },
  {
   "cell_type": "code",
   "execution_count": null,
   "id": "1506523b-981b-4ac7-b52d-f054fb8773cc",
   "metadata": {},
   "outputs": [],
   "source": [
    "plt.figure(1)\n",
    "plt.semilogy(np.diag(S))  # ile energii tłumaczy wartość\n",
    "plt.title('Singular Values')\n",
    "plt.show()\n",
    "\n",
    "plt.figure(2)\n",
    "plt.plot(np.cumsum(np.diag(S))/np.sum(np.diag(S)))  # ile energii przetłumaczone\n",
    "plt.title('Singular Values: Cumulative Sum')\n",
    "plt.show()"
   ]
  },
  {
   "cell_type": "markdown",
   "id": "a633fd32-29f0-41a4-81d9-d5672d8f6424",
   "metadata": {},
   "source": [
    "### Zaprojektować wyszukiwarkę: dla danego zapytania znaleźć tekst najbardziej adekwatny.\n",
    "\n",
    "Podstawowy sposób reprezentacji tekstu to macierz wystąpień słów w dokumentach - oznacza to bardzo duży wymiar danych...\n",
    "\n",
    "Dlatego potrzebna redukcja. Pomysł: wykryć znaczenie tekstu znajdując ukryte cechy.\n",
    "\n",
    "W praktyce rozkład SVD stosuje się w analizie podobieństwa tekstów (wyszukiwarki, systemy rekomendacyjne)."
   ]
  },
  {
   "cell_type": "code",
   "execution_count": null,
   "id": "b0ce8b09-b0a3-4ca9-a395-ec178c7c773c",
   "metadata": {},
   "outputs": [],
   "source": [
    "documents = [\n",
    "    \"morze plaża woda słońce piasek\",\n",
    "    \"morze plaża piasek woda\",\n",
    "    \"morze plaża słońce\",\n",
    "    \"plaża woda piasek\",\n",
    "    \"słońce woda plaża\",\n",
    "    \"piasek woda\",\n",
    "    \"krowa pies papuga\",\n",
    "    \"pies kot\"\n",
    "]"
   ]
  },
  {
   "cell_type": "code",
   "execution_count": null,
   "id": "8b84f891-40c3-4727-aa38-91db6c664288",
   "metadata": {},
   "outputs": [],
   "source": [
    "from sklearn.feature_extraction.text import CountVectorizer \n",
    "cv = CountVectorizer()\n",
    "dtm = cv.fit_transform(documents) \n",
    "dtm "
   ]
  },
  {
   "cell_type": "code",
   "execution_count": null,
   "id": "11f53375-ccb2-4a98-a1ec-6f0b5b2f6843",
   "metadata": {},
   "outputs": [],
   "source": [
    "x = dtm.todense().T\n",
    "x"
   ]
  },
  {
   "cell_type": "code",
   "execution_count": null,
   "id": "8e17085a-6094-4dbc-95ab-c83b48a6bb00",
   "metadata": {},
   "outputs": [],
   "source": [
    "x = dtm.todense().T \n",
    "x  # wiersze słowa, kolumny - dokumenty"
   ]
  },
  {
   "cell_type": "markdown",
   "id": "77568f52-5ff2-4043-9d1c-63d8745794af",
   "metadata": {},
   "source": [
    "Spróbujmy zareprezentować dokumenty w niżej wymiarowej przestrzeni"
   ]
  },
  {
   "cell_type": "code",
   "execution_count": null,
   "id": "4a2e8494-91a5-46bf-9f06-da4e0774f4c0",
   "metadata": {},
   "outputs": [],
   "source": [
    "U, s, V = np.linalg.svd(x)\n",
    "S = np.zeros_like(x).astype(\"float\")\n",
    "np.fill_diagonal(S,s)"
   ]
  },
  {
   "cell_type": "code",
   "execution_count": null,
   "id": "574b9c3d-41f6-44f5-9e76-07cd23a0d5de",
   "metadata": {},
   "outputs": [],
   "source": [
    "np.dot(np.dot(U,S),V)"
   ]
  },
  {
   "cell_type": "code",
   "execution_count": null,
   "id": "af2a4697-0c09-443f-91c9-4b4e9f6c24fa",
   "metadata": {},
   "outputs": [],
   "source": [
    "# Ile wziac skladowych?\n",
    "S "
   ]
  },
  {
   "cell_type": "code",
   "execution_count": null,
   "id": "cad5f8e2-a0cb-4426-9340-799aa0dea16b",
   "metadata": {},
   "outputs": [],
   "source": [
    "k = 3\n",
    "np.set_printoptions(2,suppress=True)\n",
    "\n",
    "x_n = V[:k,:] # - jedna kolumna reprezentuje jeden dokument (w mniejszej przestrzeni) \n",
    "#                 zatem bierzemy pierwsze k współrzędnych z każdego dokumentu\n",
    "x_n"
   ]
  },
  {
   "cell_type": "markdown",
   "id": "80083c20-8623-47f8-bbf8-1e0460d4c83a",
   "metadata": {},
   "source": [
    "Spójrzmy jak otrzymać V z X mając rozkład svd:\n",
    "\n",
    "$ X = USV^t \\ \\ $ => $ \\ \\ U^{-1} X = SV^t \\ \\ $ => $ \\ \\ S^{-1} U^{-1} X = V^t$ \n",
    "\n",
    "i wiemy, że $U^{-1} = U^t$.\n",
    "\n",
    "Zatem co zrobić z nowym zapytanie, żeby otrzymać jego reprezentację w V? To samo co z X, czyli:\n",
    "\n",
    "$ V^t_{nowe} = S^{-1} U^t X_{nowy}$"
   ]
  },
  {
   "cell_type": "code",
   "execution_count": null,
   "id": "3fb0a293-1403-443f-a4ae-59007990517f",
   "metadata": {},
   "outputs": [],
   "source": [
    "#Zatem, aby otrzymać k-wymiarową reprezentację V z X:\n",
    "dk = np.dot(np.linalg.inv(S[:k,:k]), np.dot(U.T[:k,:],x))\n",
    "dk"
   ]
  },
  {
   "cell_type": "code",
   "execution_count": null,
   "id": "b2bc76cd-d21c-4a91-bec5-5d57d0fdf164",
   "metadata": {},
   "outputs": [],
   "source": [
    "zapytanie = [\"morze i słońce\"]\n",
    "zapytanie = cv.transform(zapytanie).todense().T # reprezentujemy zapytanie jak wektor wystapień słów\n",
    "zapytanie"
   ]
  },
  {
   "cell_type": "code",
   "execution_count": null,
   "id": "893c0047-7757-4e7d-9024-3d66c394e817",
   "metadata": {},
   "outputs": [],
   "source": [
    "#Zatem reprezentacja zapytania w przestrzeni dokumentów:\n",
    "q = np.dot(np.linalg.inv(S[:k,:k]), np.dot(U.T[:k,:],zapytanie))\n",
    "q = np.asarray(q)\n",
    "q"
   ]
  },
  {
   "cell_type": "code",
   "execution_count": null,
   "id": "ebd0f5a1-9f18-4912-9c28-21df83ce26e0",
   "metadata": {},
   "outputs": [],
   "source": [
    "dk=np.asarray(dk)"
   ]
  },
  {
   "cell_type": "code",
   "execution_count": null,
   "id": "7527a096-6ac8-4b1b-8cc1-ee41ea33c1ea",
   "metadata": {},
   "outputs": [],
   "source": [
    "from sklearn.metrics import pairwise_distances\n",
    "pairwise_distances(dk.T,q.T)"
   ]
  },
  {
   "cell_type": "code",
   "execution_count": null,
   "id": "e92679ec-6739-4f9e-892d-54610ad71478",
   "metadata": {},
   "outputs": [],
   "source": [
    "kolejnosc = pairwise_distances(dk.T,q.T).flatten().argsort()\n",
    "kolejnosc"
   ]
  },
  {
   "cell_type": "code",
   "execution_count": null,
   "id": "24d4029b-8258-4168-adb0-5a814a2c181b",
   "metadata": {},
   "outputs": [],
   "source": [
    "for item in np.array(documents)[kolejnosc]:\n",
    "    print(item)"
   ]
  }
 ],
 "metadata": {
  "kernelspec": {
   "display_name": "Python 3 (ipykernel)",
   "language": "python",
   "name": "python3"
  },
  "language_info": {
   "codemirror_mode": {
    "name": "ipython",
    "version": 3
   },
   "file_extension": ".py",
   "mimetype": "text/x-python",
   "name": "python",
   "nbconvert_exporter": "python",
   "pygments_lexer": "ipython3",
   "version": "3.11.1"
  }
 },
 "nbformat": 4,
 "nbformat_minor": 5
}

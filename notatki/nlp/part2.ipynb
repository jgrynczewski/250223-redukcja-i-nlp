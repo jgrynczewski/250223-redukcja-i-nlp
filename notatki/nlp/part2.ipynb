{
 "cells": [
  {
   "cell_type": "code",
   "execution_count": 1,
   "id": "b95ec5f8-2d5a-42bc-bca6-c30d86ee29ab",
   "metadata": {},
   "outputs": [],
   "source": [
    "import nltk"
   ]
  },
  {
   "cell_type": "code",
   "execution_count": 2,
   "id": "b946150e-0645-4460-9f55-22aec16cd01f",
   "metadata": {},
   "outputs": [],
   "source": [
    "sentences = \"The cat is in the box. The cat likes the box. The box is over the cat.\""
   ]
  },
  {
   "cell_type": "markdown",
   "id": "42c77755-0f67-4784-9339-3eca3649a006",
   "metadata": {},
   "source": [
    "## Preprocessing"
   ]
  },
  {
   "cell_type": "markdown",
   "id": "4cd673f9-e1be-4839-aa5a-b45ca5bd30e9",
   "metadata": {},
   "source": [
    "### Tokenizacja"
   ]
  },
  {
   "cell_type": "code",
   "execution_count": 3,
   "id": "e4835cd8-9da9-4cfb-b9bd-e3c7ddbe708c",
   "metadata": {},
   "outputs": [
    {
     "name": "stderr",
     "output_type": "stream",
     "text": [
      "[nltk_data] Downloading package punkt to\n",
      "[nltk_data]     C:\\Users\\User\\AppData\\Roaming\\nltk_data...\n",
      "[nltk_data]   Package punkt is already up-to-date!\n"
     ]
    },
    {
     "data": {
      "text/plain": [
       "True"
      ]
     },
     "execution_count": 3,
     "metadata": {},
     "output_type": "execute_result"
    }
   ],
   "source": [
    "nltk.download('punkt')"
   ]
  },
  {
   "cell_type": "code",
   "execution_count": 4,
   "id": "9816fcc5-0681-4f5a-be36-5d9b269b95cb",
   "metadata": {},
   "outputs": [
    {
     "name": "stdout",
     "output_type": "stream",
     "text": [
      "['The', 'cat', 'is', 'in', 'the', 'box', '.', 'The', 'cat', 'likes', 'the', 'box', '.', 'The', 'box', 'is', 'over', 'the', 'cat', '.']\n"
     ]
    }
   ],
   "source": [
    "# tokenizacja\n",
    "from nltk.tokenize import word_tokenize\n",
    "\n",
    "tokens = word_tokenize(sentences)\n",
    "print(tokens)"
   ]
  },
  {
   "cell_type": "markdown",
   "id": "c53e8560-e9ad-44f1-81e0-961d0495d76d",
   "metadata": {},
   "source": [
    "### Lowercase"
   ]
  },
  {
   "cell_type": "code",
   "execution_count": 6,
   "id": "13b88149-222d-48fb-a96d-8d3a37a4e64d",
   "metadata": {},
   "outputs": [
    {
     "name": "stdout",
     "output_type": "stream",
     "text": [
      "['the', 'cat', 'is', 'in', 'the', 'box', '.', 'the', 'cat', 'likes', 'the', 'box', '.', 'the', 'box', 'is', 'over', 'the', 'cat', '.']\n"
     ]
    }
   ],
   "source": [
    "tokens = [token.lower() for token in tokens]\n",
    "print(tokens)"
   ]
  },
  {
   "cell_type": "markdown",
   "id": "91db88cb-bfac-4391-85df-73097192bcd7",
   "metadata": {},
   "source": [
    "### Usunięcie tokenów nie są alfanumeryczne"
   ]
  },
  {
   "cell_type": "code",
   "execution_count": 8,
   "id": "3981f935-2b81-42d7-b31d-ce94f58419dc",
   "metadata": {},
   "outputs": [
    {
     "name": "stdout",
     "output_type": "stream",
     "text": [
      "['the', 'cat', 'is', 'in', 'the', 'box', 'the', 'cat', 'likes', 'the', 'box', 'the', 'box', 'is', 'over', 'the', 'cat']\n"
     ]
    }
   ],
   "source": [
    "tokens = [token for token in tokens if token.isalpha()]\n",
    "print(tokens)"
   ]
  },
  {
   "cell_type": "markdown",
   "id": "58f4b5ce-3a4a-420e-889b-63d2f456f443",
   "metadata": {},
   "source": [
    "### Usunięcie stopwords"
   ]
  },
  {
   "cell_type": "markdown",
   "id": "3592c5db-83c0-42f7-8173-536a5f766e6a",
   "metadata": {},
   "source": [
    "**Stopwords** - najczęściej występujące słowa w języku, które nie niosą ze sobą żadnej konkretnej treści."
   ]
  },
  {
   "cell_type": "code",
   "execution_count": 9,
   "id": "cdf012de-e216-4253-ada5-9dd0757a4adf",
   "metadata": {},
   "outputs": [
    {
     "name": "stderr",
     "output_type": "stream",
     "text": [
      "[nltk_data] Downloading package stopwords to\n",
      "[nltk_data]     C:\\Users\\User\\AppData\\Roaming\\nltk_data...\n",
      "[nltk_data]   Package stopwords is already up-to-date!\n"
     ]
    },
    {
     "data": {
      "text/plain": [
       "True"
      ]
     },
     "execution_count": 9,
     "metadata": {},
     "output_type": "execute_result"
    }
   ],
   "source": [
    "nltk.download('stopwords')"
   ]
  },
  {
   "cell_type": "code",
   "execution_count": 10,
   "id": "82cd39dc-b57a-409c-a736-a068b24904ae",
   "metadata": {},
   "outputs": [
    {
     "name": "stdout",
     "output_type": "stream",
     "text": [
      "['i', 'me', 'my', 'myself', 'we', 'our', 'ours', 'ourselves', 'you', \"you're\", \"you've\", \"you'll\", \"you'd\", 'your', 'yours', 'yourself', 'yourselves', 'he', 'him', 'his', 'himself', 'she', \"she's\", 'her', 'hers', 'herself', 'it', \"it's\", 'its', 'itself', 'they', 'them', 'their', 'theirs', 'themselves', 'what', 'which', 'who', 'whom', 'this', 'that', \"that'll\", 'these', 'those', 'am', 'is', 'are', 'was', 'were', 'be', 'been', 'being', 'have', 'has', 'had', 'having', 'do', 'does', 'did', 'doing', 'a', 'an', 'the', 'and', 'but', 'if', 'or', 'because', 'as', 'until', 'while', 'of', 'at', 'by', 'for', 'with', 'about', 'against', 'between', 'into', 'through', 'during', 'before', 'after', 'above', 'below', 'to', 'from', 'up', 'down', 'in', 'out', 'on', 'off', 'over', 'under', 'again', 'further', 'then', 'once', 'here', 'there', 'when', 'where', 'why', 'how', 'all', 'any', 'both', 'each', 'few', 'more', 'most', 'other', 'some', 'such', 'no', 'nor', 'not', 'only', 'own', 'same', 'so', 'than', 'too', 'very', 's', 't', 'can', 'will', 'just', 'don', \"don't\", 'should', \"should've\", 'now', 'd', 'll', 'm', 'o', 're', 've', 'y', 'ain', 'aren', \"aren't\", 'couldn', \"couldn't\", 'didn', \"didn't\", 'doesn', \"doesn't\", 'hadn', \"hadn't\", 'hasn', \"hasn't\", 'haven', \"haven't\", 'isn', \"isn't\", 'ma', 'mightn', \"mightn't\", 'mustn', \"mustn't\", 'needn', \"needn't\", 'shan', \"shan't\", 'shouldn', \"shouldn't\", 'wasn', \"wasn't\", 'weren', \"weren't\", 'won', \"won't\", 'wouldn', \"wouldn't\"]\n"
     ]
    }
   ],
   "source": [
    "from nltk.corpus import stopwords\n",
    "\n",
    "stopwords_list = stopwords.words('english')\n",
    "print(stopwords_list)"
   ]
  },
  {
   "cell_type": "code",
   "execution_count": 11,
   "id": "f1aba51a-c513-4e63-9501-7026a2ee46da",
   "metadata": {},
   "outputs": [
    {
     "name": "stdout",
     "output_type": "stream",
     "text": [
      "['cat', 'box', 'cat', 'likes', 'box', 'box', 'cat']\n"
     ]
    }
   ],
   "source": [
    "tokens = [token for token in tokens if token not in stopwords_list]\n",
    "print(tokens)"
   ]
  },
  {
   "cell_type": "markdown",
   "id": "d52c975c-26b9-4cc1-bb9e-9afbc39c0e1d",
   "metadata": {},
   "source": [
    "### Lematyzacja"
   ]
  },
  {
   "cell_type": "code",
   "execution_count": 12,
   "id": "2711de0d-2931-4f6e-b8ed-65ac0efce442",
   "metadata": {},
   "outputs": [
    {
     "name": "stderr",
     "output_type": "stream",
     "text": [
      "[nltk_data] Downloading package wordnet to\n",
      "[nltk_data]     C:\\Users\\User\\AppData\\Roaming\\nltk_data...\n",
      "[nltk_data]   Package wordnet is already up-to-date!\n"
     ]
    },
    {
     "data": {
      "text/plain": [
       "True"
      ]
     },
     "execution_count": 12,
     "metadata": {},
     "output_type": "execute_result"
    }
   ],
   "source": [
    "nltk.download('wordnet')"
   ]
  },
  {
   "cell_type": "code",
   "execution_count": 13,
   "id": "361f4e6b-3f20-4526-a543-049a4d3666b9",
   "metadata": {},
   "outputs": [
    {
     "name": "stdout",
     "output_type": "stream",
     "text": [
      "['cat', 'box', 'cat', 'like', 'box', 'box', 'cat']\n"
     ]
    }
   ],
   "source": [
    "from nltk.stem import WordNetLemmatizer\n",
    "\n",
    "# Inicjalizacja WordNetLemmatizer\n",
    "wordnet_lemmatizer = WordNetLemmatizer()\n",
    "\n",
    "tokens = [wordnet_lemmatizer.lemmatize(token) for token in tokens]\n",
    "print(tokens)"
   ]
  },
  {
   "cell_type": "markdown",
   "id": "54b4b83b",
   "metadata": {},
   "source": [
    "## Model BoW"
   ]
  },
  {
   "cell_type": "code",
   "execution_count": 14,
   "id": "b8635fa6",
   "metadata": {},
   "outputs": [
    {
     "name": "stdout",
     "output_type": "stream",
     "text": [
      "Counter({'cat': 3, 'box': 3, 'like': 1})\n"
     ]
    }
   ],
   "source": [
    "from collections import Counter\n",
    "\n",
    "c = Counter(tokens)\n",
    "print(c)"
   ]
  },
  {
   "cell_type": "code",
   "execution_count": 15,
   "id": "fb6bbde0-31a3-49d5-be14-36b99dc5fdbc",
   "metadata": {},
   "outputs": [
    {
     "name": "stdout",
     "output_type": "stream",
     "text": [
      "[('cat', 3), ('box', 3)]\n"
     ]
    }
   ],
   "source": [
    "# dwa najczęściej występujące tokeny w tekście\n",
    "print(c.most_common(2))"
   ]
  },
  {
   "cell_type": "markdown",
   "id": "8dd479ab-d5ff-46c7-b314-5feda5675fef",
   "metadata": {},
   "source": [
    "### Biblioteka Gensim"
   ]
  },
  {
   "cell_type": "markdown",
   "id": "815d31fc-222f-4d79-99ed-3e5c4be08d7a",
   "metadata": {},
   "source": [
    "Biblioteka Gesim jest inną popularną biblioteką do przetwarzania pozwala nam w prosty sposób budować korpusy i słowniki. Korpus to zbiór tekstów służących do wykonywania zadań przetwarzania języka naturlanego."
   ]
  },
  {
   "cell_type": "code",
   "execution_count": 16,
   "id": "a274ac7b-5990-4337-b924-e786d3f638a6",
   "metadata": {},
   "outputs": [
    {
     "name": "stdout",
     "output_type": "stream",
     "text": [
      "Collecting gensim\n",
      "  Using cached gensim-4.3.1-cp311-cp311-win_amd64.whl (23.9 MB)\n",
      "Requirement already satisfied: numpy>=1.18.5 in c:\\users\\user\\pycharmprojects\\250223-redukcja-i-nlp\\venv\\lib\\site-packages (from gensim) (1.24.3)\n",
      "Requirement already satisfied: scipy>=1.7.0 in c:\\users\\user\\pycharmprojects\\250223-redukcja-i-nlp\\venv\\lib\\site-packages (from gensim) (1.11.1)\n",
      "Collecting smart-open>=1.8.1\n",
      "  Using cached smart_open-6.3.0-py3-none-any.whl (56 kB)\n",
      "Installing collected packages: smart-open, gensim\n",
      "Successfully installed gensim-4.3.1 smart-open-6.3.0\n"
     ]
    },
    {
     "name": "stderr",
     "output_type": "stream",
     "text": [
      "\n",
      "[notice] A new release of pip available: 22.3.1 -> 23.1.2\n",
      "[notice] To update, run: python.exe -m pip install --upgrade pip\n"
     ]
    }
   ],
   "source": [
    "!pip install gensim"
   ]
  },
  {
   "cell_type": "code",
   "execution_count": 36,
   "id": "0d58c7d1",
   "metadata": {},
   "outputs": [
    {
     "name": "stdout",
     "output_type": "stream",
     "text": [
      "[['nearly', 'great', 'ideas', 'follow', 'similar', 'creative', 'process', 'article', 'explains', 'process', 'works', 'understanding', 'important', 'creative', 'thinking', 'one', 'useful', 'skills', 'possess'], ['something', 'always', 'faster', 'statement', 'reminds', 'old', 'computer', 'programming', 'saying', 'remember', 'code', 'faster', 'code'], ['went', 'become', 'trailblazer', 'field', 'photography', 'held', 'patents', 'end', 'career', 'story', 'creativity', 'innovation', 'share', 'useful', 'case', 'study', 'understanding', 'key', 'steps', 'creative', 'process'], ['spent', 'rest', 'decade', 'experimenting', 'new', 'photography', 'techniques', 'learning', 'cameras', 'printers', 'optics']]\n"
     ]
    }
   ],
   "source": [
    "from nltk.tokenize import word_tokenize\n",
    "from gensim.corpora.dictionary import Dictionary\n",
    "\n",
    "# nasz dokument (lista napisów)\n",
    "my_documents = [\n",
    "    'Nearly all great ideas follow a similar creative process and this article explains how this process works. Understanding this is important because creative thinking is one of the most useful skills you can possess.',\n",
    "    'Not doing something will always be faster than doing it. This statement reminds me of the old computer programming saying, Remember that there is no code faster than no code.',\n",
    "    'He went on to become a trailblazer in the field of photography and held over 70 patents by the end of his career. His story of creativity and innovation, which I will share now, is a useful case study for understanding the 5 key steps of the creative process.',\n",
    "    'He spent the rest of the decade experimenting with new photography techniques and learning about cameras, printers, and optics.',   \n",
    "]\n",
    "\n",
    "# preprocessing (lowercase, usuwam znaki interpunkcyjne i stopwords)\n",
    "tokenized_docs = [word_tokenize(article.lower()) for article in my_documents]\n",
    "for idx, article_word_list in enumerate(tokenized_docs):\n",
    "    new_article_word_list = []\n",
    "    for token in article_word_list:\n",
    "        if (not token.isalpha()) or token in stopwords_list:\n",
    "            continue\n",
    "        else:\n",
    "            new_article_word_list.append(token)\n",
    "    tokenized_docs[idx]=new_article_word_list\n",
    "\n",
    "print(tokenized_docs)"
   ]
  },
  {
   "cell_type": "code",
   "execution_count": 34,
   "id": "d24f4aad-0b78-429c-9cfa-c5aceeee17a0",
   "metadata": {},
   "outputs": [
    {
     "name": "stdout",
     "output_type": "stream",
     "text": [
      "['i', 'me', 'my', 'myself', 'we', 'our', 'ours', 'ourselves', 'you', \"you're\", \"you've\", \"you'll\", \"you'd\", 'your', 'yours', 'yourself', 'yourselves', 'he', 'him', 'his', 'himself', 'she', \"she's\", 'her', 'hers', 'herself', 'it', \"it's\", 'its', 'itself', 'they', 'them', 'their', 'theirs', 'themselves', 'what', 'which', 'who', 'whom', 'this', 'that', \"that'll\", 'these', 'those', 'am', 'is', 'are', 'was', 'were', 'be', 'been', 'being', 'have', 'has', 'had', 'having', 'do', 'does', 'did', 'doing', 'a', 'an', 'the', 'and', 'but', 'if', 'or', 'because', 'as', 'until', 'while', 'of', 'at', 'by', 'for', 'with', 'about', 'against', 'between', 'into', 'through', 'during', 'before', 'after', 'above', 'below', 'to', 'from', 'up', 'down', 'in', 'out', 'on', 'off', 'over', 'under', 'again', 'further', 'then', 'once', 'here', 'there', 'when', 'where', 'why', 'how', 'all', 'any', 'both', 'each', 'few', 'more', 'most', 'other', 'some', 'such', 'no', 'nor', 'not', 'only', 'own', 'same', 'so', 'than', 'too', 'very', 's', 't', 'can', 'will', 'just', 'don', \"don't\", 'should', \"should've\", 'now', 'd', 'll', 'm', 'o', 're', 've', 'y', 'ain', 'aren', \"aren't\", 'couldn', \"couldn't\", 'didn', \"didn't\", 'doesn', \"doesn't\", 'hadn', \"hadn't\", 'hasn', \"hasn't\", 'haven', \"haven't\", 'isn', \"isn't\", 'ma', 'mightn', \"mightn't\", 'mustn', \"mustn't\", 'needn', \"needn't\", 'shan', \"shan't\", 'shouldn', \"shouldn't\", 'wasn', \"wasn't\", 'weren', \"weren't\", 'won', \"won't\", 'wouldn', \"wouldn't\"]\n"
     ]
    }
   ],
   "source": [
    "print(stopwords_list)"
   ]
  },
  {
   "cell_type": "markdown",
   "id": "65f55474-c567-4355-8f3f-b5bc07419f6a",
   "metadata": {},
   "source": [
    "Z tak przygotowanego zestawy tokenów możemy stworzyć słownik"
   ]
  },
  {
   "cell_type": "code",
   "execution_count": 37,
   "id": "98e194e9-4766-4dba-9df9-15cbe93bd480",
   "metadata": {},
   "outputs": [
    {
     "name": "stdout",
     "output_type": "stream",
     "text": [
      "{'article': 0, 'creative': 1, 'explains': 2, 'follow': 3, 'great': 4, 'ideas': 5, 'important': 6, 'nearly': 7, 'one': 8, 'possess': 9, 'process': 10, 'similar': 11, 'skills': 12, 'thinking': 13, 'understanding': 14, 'useful': 15, 'works': 16, 'always': 17, 'code': 18, 'computer': 19, 'faster': 20, 'old': 21, 'programming': 22, 'remember': 23, 'reminds': 24, 'saying': 25, 'something': 26, 'statement': 27, 'become': 28, 'career': 29, 'case': 30, 'creativity': 31, 'end': 32, 'field': 33, 'held': 34, 'innovation': 35, 'key': 36, 'patents': 37, 'photography': 38, 'share': 39, 'steps': 40, 'story': 41, 'study': 42, 'trailblazer': 43, 'went': 44, 'cameras': 45, 'decade': 46, 'experimenting': 47, 'learning': 48, 'new': 49, 'optics': 50, 'printers': 51, 'rest': 52, 'spent': 53, 'techniques': 54}\n"
     ]
    }
   ],
   "source": [
    "# Słownik (mapa)\n",
    "dictionary = Dictionary(tokenized_docs)\n",
    "print(dictionary.token2id)"
   ]
  },
  {
   "cell_type": "markdown",
   "id": "7a6e0191-a610-4cf6-b5ab-db5ba159a524",
   "metadata": {},
   "source": [
    "ze słownika możemy otrzymać specjalny korpus"
   ]
  },
  {
   "cell_type": "code",
   "execution_count": 38,
   "id": "edbd3a1e-af2a-4eb0-82dc-739523901a50",
   "metadata": {
    "scrolled": true
   },
   "outputs": [
    {
     "name": "stdout",
     "output_type": "stream",
     "text": [
      "[[(0, 1), (1, 2), (2, 1), (3, 1), (4, 1), (5, 1), (6, 1), (7, 1), (8, 1), (9, 1), (10, 2), (11, 1), (12, 1), (13, 1), (14, 1), (15, 1), (16, 1)], [(17, 1), (18, 2), (19, 1), (20, 2), (21, 1), (22, 1), (23, 1), (24, 1), (25, 1), (26, 1), (27, 1)], [(1, 1), (10, 1), (14, 1), (15, 1), (28, 1), (29, 1), (30, 1), (31, 1), (32, 1), (33, 1), (34, 1), (35, 1), (36, 1), (37, 1), (38, 1), (39, 1), (40, 1), (41, 1), (42, 1), (43, 1), (44, 1)], [(38, 1), (45, 1), (46, 1), (47, 1), (48, 1), (49, 1), (50, 1), (51, 1), (52, 1), (53, 1), (54, 1)]]\n"
     ]
    }
   ],
   "source": [
    "corpus = [dictionary.doc2bow(article) for article in tokenized_docs]\n",
    "print(corpus)"
   ]
  },
  {
   "cell_type": "markdown",
   "id": "aab22a3d-017c-4559-ae5c-14cdc037ebfa",
   "metadata": {},
   "source": [
    "Powyższy korpus jest trochę czymś innym niż to co przeważnie mamy na myśli mówiąć korpus języka - czyli zestaw dokumentów. Gensim używa prostego modelu BoW za pomocą którego przekształca każdy dokument w BoW użwając id tokenów i częstość występowania tokenu w dokumencie. Za pomocą Gensim w kilku linijkach możemy otrzymać nowy korpus i BoW.\n",
    "\n",
    "I ten korpus można łatwo zapisywać, aktualizować i ponownie wykorzystywać dzięki narzędziom biblioteki Gensim."
   ]
  },
  {
   "cell_type": "markdown",
   "id": "6186fa4f",
   "metadata": {},
   "source": [
    "## Model TF-IDF"
   ]
  },
  {
   "cell_type": "code",
   "execution_count": 39,
   "id": "951e1771",
   "metadata": {},
   "outputs": [],
   "source": [
    "from gensim.models.tfidfmodel import TfidfModel\n",
    "\n",
    "tfidf_corpus = TfidfModel(corpus)"
   ]
  },
  {
   "cell_type": "code",
   "execution_count": 40,
   "id": "bf620bed-76ff-4a77-89f8-a617aabc5b1e",
   "metadata": {},
   "outputs": [
    {
     "name": "stdout",
     "output_type": "stream",
     "text": [
      "[(0, 1), (1, 2), (2, 1), (3, 1), (4, 1), (5, 1), (6, 1), (7, 1), (8, 1), (9, 1), (10, 2), (11, 1), (12, 1), (13, 1), (14, 1), (15, 1), (16, 1)]\n"
     ]
    }
   ],
   "source": [
    "print(corpus[0])"
   ]
  },
  {
   "cell_type": "code",
   "execution_count": 41,
   "id": "fe359b37-0ab0-4172-bb12-6055e8b47676",
   "metadata": {},
   "outputs": [
    {
     "name": "stdout",
     "output_type": "stream",
     "text": [
      "[(0, 0.254000254000381), (1, 0.254000254000381), (2, 0.254000254000381), (3, 0.254000254000381), (4, 0.254000254000381), (5, 0.254000254000381), (6, 0.254000254000381), (7, 0.254000254000381), (8, 0.254000254000381), (9, 0.254000254000381), (10, 0.254000254000381), (11, 0.254000254000381), (12, 0.254000254000381), (13, 0.254000254000381), (14, 0.1270001270001905), (15, 0.1270001270001905), (16, 0.254000254000381)]\n"
     ]
    }
   ],
   "source": [
    "print(tfidf_corpus[corpus[0]])"
   ]
  },
  {
   "cell_type": "markdown",
   "id": "c7986b0b-fb49-47a3-9b7f-2f438ba75832",
   "metadata": {},
   "source": [
    "Mimo, że token o id 15 występuje w dokumencie 1 raz to wartość przyporządkowana jemu w tfidf jest znacznie niższa."
   ]
  },
  {
   "cell_type": "code",
   "execution_count": 42,
   "id": "6b35a89d-0e9e-4ab9-8ea8-d8fe36621711",
   "metadata": {},
   "outputs": [
    {
     "data": {
      "text/plain": [
       "'useful'"
      ]
     },
     "execution_count": 42,
     "metadata": {},
     "output_type": "execute_result"
    }
   ],
   "source": [
    "dictionary[15]"
   ]
  }
 ],
 "metadata": {
  "kernelspec": {
   "display_name": "Python 3 (ipykernel)",
   "language": "python",
   "name": "python3"
  },
  "language_info": {
   "codemirror_mode": {
    "name": "ipython",
    "version": 3
   },
   "file_extension": ".py",
   "mimetype": "text/x-python",
   "name": "python",
   "nbconvert_exporter": "python",
   "pygments_lexer": "ipython3",
   "version": "3.11.1"
  }
 },
 "nbformat": 4,
 "nbformat_minor": 5
}

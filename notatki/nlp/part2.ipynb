{
 "cells": [
  {
   "cell_type": "code",
   "execution_count": null,
   "id": "b95ec5f8-2d5a-42bc-bca6-c30d86ee29ab",
   "metadata": {},
   "outputs": [],
   "source": [
    "import nltk"
   ]
  },
  {
   "cell_type": "code",
   "execution_count": null,
   "id": "b946150e-0645-4460-9f55-22aec16cd01f",
   "metadata": {},
   "outputs": [],
   "source": [
    "sentences = \"The cat is in the box. The cat likes the box. The box is over the cat.\""
   ]
  },
  {
   "cell_type": "markdown",
   "id": "42c77755-0f67-4784-9339-3eca3649a006",
   "metadata": {},
   "source": [
    "## 1. Preprocessing"
   ]
  },
  {
   "cell_type": "markdown",
   "id": "4cd673f9-e1be-4839-aa5a-b45ca5bd30e9",
   "metadata": {},
   "source": [
    "### A. Tokenizacja"
   ]
  },
  {
   "cell_type": "code",
   "execution_count": null,
   "id": "e4835cd8-9da9-4cfb-b9bd-e3c7ddbe708c",
   "metadata": {},
   "outputs": [],
   "source": [
    "nltk.download('punkt')"
   ]
  },
  {
   "cell_type": "code",
   "execution_count": null,
   "id": "9816fcc5-0681-4f5a-be36-5d9b269b95cb",
   "metadata": {},
   "outputs": [],
   "source": [
    "# tokenizacja\n",
    "from nltk.tokenize import word_tokenize\n",
    "\n",
    "tokens = word_tokenize(sentences)\n",
    "print(tokens)"
   ]
  },
  {
   "cell_type": "markdown",
   "id": "c53e8560-e9ad-44f1-81e0-961d0495d76d",
   "metadata": {},
   "source": [
    "### B. Lowercase"
   ]
  },
  {
   "cell_type": "code",
   "execution_count": null,
   "id": "13b88149-222d-48fb-a96d-8d3a37a4e64d",
   "metadata": {},
   "outputs": [],
   "source": [
    "tokens = [token.lower() for token in tokens]\n",
    "print(tokens)"
   ]
  },
  {
   "cell_type": "markdown",
   "id": "91db88cb-bfac-4391-85df-73097192bcd7",
   "metadata": {},
   "source": [
    "### C. Usunięcie niealfanumerycznych tokenów"
   ]
  },
  {
   "cell_type": "code",
   "execution_count": null,
   "id": "3981f935-2b81-42d7-b31d-ce94f58419dc",
   "metadata": {},
   "outputs": [],
   "source": [
    "tokens = [token for token in tokens if token.isalpha()]\n",
    "print(tokens)"
   ]
  },
  {
   "cell_type": "code",
   "execution_count": null,
   "id": "d1593509-93f1-4922-970c-70849a771b30",
   "metadata": {},
   "outputs": [],
   "source": [
    "# gdybyśmy chcieli usunąć wyłącznie znaki, które nie są interpunkcyjne, a nie wszystkie niealfanumeryczne znaki, możemy zrobić tak\n",
    "import string\n",
    "\n",
    "tokens = [token for token in tokens if token not in string.punctuation]\n",
    "print(tokens)"
   ]
  },
  {
   "cell_type": "markdown",
   "id": "58f4b5ce-3a4a-420e-889b-63d2f456f443",
   "metadata": {},
   "source": [
    "### D. Usunięcie stopwords"
   ]
  },
  {
   "cell_type": "markdown",
   "id": "3592c5db-83c0-42f7-8173-536a5f766e6a",
   "metadata": {},
   "source": [
    "**Stopwords** - najczęściej występujące słowa w języku, które nie niosą ze sobą żadnej konkretnej treści."
   ]
  },
  {
   "cell_type": "code",
   "execution_count": null,
   "id": "cdf012de-e216-4253-ada5-9dd0757a4adf",
   "metadata": {},
   "outputs": [],
   "source": [
    "nltk.download('stopwords')"
   ]
  },
  {
   "cell_type": "code",
   "execution_count": null,
   "id": "82cd39dc-b57a-409c-a736-a068b24904ae",
   "metadata": {},
   "outputs": [],
   "source": [
    "from nltk.corpus import stopwords\n",
    "\n",
    "stopwords_list = stopwords.words('english')\n",
    "print(stopwords_list)"
   ]
  },
  {
   "cell_type": "code",
   "execution_count": null,
   "id": "f1aba51a-c513-4e63-9501-7026a2ee46da",
   "metadata": {},
   "outputs": [],
   "source": [
    "tokens = [token for token in tokens if token not in stopwords_list]\n",
    "print(tokens)"
   ]
  },
  {
   "cell_type": "markdown",
   "id": "d52c975c-26b9-4cc1-bb9e-9afbc39c0e1d",
   "metadata": {},
   "source": [
    "### E. Lematyzacja"
   ]
  },
  {
   "cell_type": "code",
   "execution_count": null,
   "id": "2711de0d-2931-4f6e-b8ed-65ac0efce442",
   "metadata": {},
   "outputs": [],
   "source": [
    "nltk.download('wordnet')"
   ]
  },
  {
   "cell_type": "code",
   "execution_count": null,
   "id": "361f4e6b-3f20-4526-a543-049a4d3666b9",
   "metadata": {},
   "outputs": [],
   "source": [
    "from nltk.stem import WordNetLemmatizer\n",
    "\n",
    "# Inicjalizacja WordNetLemmatizer\n",
    "wordnet_lemmatizer = WordNetLemmatizer()\n",
    "\n",
    "tokens = [wordnet_lemmatizer.lemmatize(token) for token in tokens]\n",
    "print(tokens)"
   ]
  },
  {
   "cell_type": "markdown",
   "id": "fce32e1b-31f5-426a-8d6a-c3f9b0843960",
   "metadata": {},
   "source": [
    "## 2. Techniki osadzania słów, *ang. embeddings* (aka wektoryzacja słów)"
   ]
  },
  {
   "cell_type": "markdown",
   "id": "54b4b83b",
   "metadata": {},
   "source": [
    "### A. Model BoW"
   ]
  },
  {
   "cell_type": "code",
   "execution_count": null,
   "id": "b8635fa6",
   "metadata": {},
   "outputs": [],
   "source": [
    "from collections import Counter\n",
    "\n",
    "c = Counter(tokens)\n",
    "print(c)"
   ]
  },
  {
   "cell_type": "code",
   "execution_count": null,
   "id": "fb6bbde0-31a3-49d5-be14-36b99dc5fdbc",
   "metadata": {},
   "outputs": [],
   "source": [
    "# dwa najczęściej występujące tokeny w tekście\n",
    "print(c.most_common(2))"
   ]
  },
  {
   "cell_type": "markdown",
   "id": "dd9d287b-7133-4dad-a1ab-3fb4da915fa2",
   "metadata": {},
   "source": [
    "Zróbmy teraz to samo wykorzystując inną bibliotekę."
   ]
  },
  {
   "cell_type": "markdown",
   "id": "8dd479ab-d5ff-46c7-b314-5feda5675fef",
   "metadata": {},
   "source": [
    "#### Biblioteka Gensim"
   ]
  },
  {
   "cell_type": "markdown",
   "id": "815d31fc-222f-4d79-99ed-3e5c4be08d7a",
   "metadata": {},
   "source": [
    "Biblioteka Gesim jest drugą, popularną biblioteką do przetwarzania tekstu w pythonie. Pozwala nam w prosty sposób budować korpusy i słowniki. **Korpus** to zbiór tekstów, na którym wykonujemy zadania przetwarzanie języka naturalnego. Składa się z pojedynczych **dokumentów**. Zbiór słów występujących w korpusie nazywamy jego **słownikiem**."
   ]
  },
  {
   "cell_type": "code",
   "execution_count": null,
   "id": "a274ac7b-5990-4337-b924-e786d3f638a6",
   "metadata": {},
   "outputs": [],
   "source": [
    "!pip install gensim"
   ]
  },
  {
   "cell_type": "markdown",
   "id": "c40a6aaf-ac38-41f8-bd23-d2fac17bd277",
   "metadata": {},
   "source": [
    "Najpier tokenizacja i oczyszcenie tekstu. Do tych zadań użyjemy nltk"
   ]
  },
  {
   "cell_type": "code",
   "execution_count": null,
   "id": "0d58c7d1",
   "metadata": {},
   "outputs": [],
   "source": [
    "from nltk.tokenize import word_tokenize\n",
    "\n",
    "# nasz dokument (lista napisów)\n",
    "my_documents = [\n",
    "    'Nearly all great ideas follow a similar creative process and this article explains how this process works. Understanding this is important because creative thinking is one of the most useful skills you can possess.',\n",
    "    'Not doing something will always be faster than doing it. This statement reminds me of the old computer programming saying, Remember that there is no code faster than no code.',\n",
    "    'He went on to become a trailblazer in the field of photography and held over 70 patents by the end of his career. His story of creativity and innovation, which I will share now, is a useful case study for understanding the 5 key steps of the creative process.',\n",
    "    'He spent the rest of the decade experimenting with new photography techniques and learning about cameras, printers, and optics.',   \n",
    "]\n",
    "\n",
    "# preprocessing (lowercase, usuwam znaki interpunkcyjne i stopwords)\n",
    "tokenized_docs = [word_tokenize(article.lower()) for article in my_documents]\n",
    "for idx, article_word_list in enumerate(tokenized_docs):\n",
    "    new_article_word_list = []\n",
    "    for token in article_word_list:\n",
    "        if (not token.isalpha()) or token in stopwords_list:\n",
    "            continue\n",
    "        else:\n",
    "            new_article_word_list.append(token)\n",
    "    tokenized_docs[idx]=new_article_word_list\n",
    "\n",
    "print(tokenized_docs)"
   ]
  },
  {
   "cell_type": "markdown",
   "id": "83a6ae0a-0828-4e8a-8632-e1bf9afa42a3",
   "metadata": {},
   "source": [
    "Dla tak przygotowanych danych tekstowych wygnerujmy model bow za pomocą narzędzi biblioteki Gensim.  "
   ]
  },
  {
   "cell_type": "markdown",
   "id": "65f55474-c567-4355-8f3f-b5bc07419f6a",
   "metadata": {},
   "source": [
    "Stworzenie słownika - czyli jednoznaczne przyporządkowanie każdemu tokenowi jakiejś liczby"
   ]
  },
  {
   "cell_type": "code",
   "execution_count": null,
   "id": "98e194e9-4766-4dba-9df9-15cbe93bd480",
   "metadata": {},
   "outputs": [],
   "source": [
    "from gensim.corpora.dictionary import Dictionary\n",
    "\n",
    "# Słownik (mapa)\n",
    "dictionary = Dictionary(tokenized_docs)\n",
    "print(dictionary.token2id)"
   ]
  },
  {
   "cell_type": "markdown",
   "id": "7a6e0191-a610-4cf6-b5ab-db5ba159a524",
   "metadata": {},
   "source": [
    "Słownik posiada metodę doc2bow, która zwraca rozkład bow przekazanego do niej dokumentu. Zliczane są wyłącznie tokeny występujące w słowniku. Wynikowa lista składa się z dwuelementowych tupli, w których pierwszy element to id tokena w słwoniku, a drugi element to liczba wystąpień tego tokena w przekazanym do metody dokumentcie."
   ]
  },
  {
   "cell_type": "code",
   "execution_count": null,
   "id": "a68a519f-a0f8-484a-84c1-b1bdb16a7145",
   "metadata": {},
   "outputs": [],
   "source": [
    "bow = dictionary.doc2bow(tokenized_docs[0])\n",
    "print(bow)"
   ]
  },
  {
   "cell_type": "markdown",
   "id": "d83ad76e-979e-44f1-8d4c-2841e26aff7d",
   "metadata": {},
   "source": [
    "W ten sposób możemy otrzymać rozkład bow dla całego naszego korpusu."
   ]
  },
  {
   "cell_type": "code",
   "execution_count": null,
   "id": "edbd3a1e-af2a-4eb0-82dc-739523901a50",
   "metadata": {
    "scrolled": true
   },
   "outputs": [],
   "source": [
    "bow_corpus = [dictionary.doc2bow(doc) for doc in tokenized_docs]\n",
    "print(bow_corpus)"
   ]
  },
  {
   "cell_type": "markdown",
   "id": "6186fa4f",
   "metadata": {},
   "source": [
    "### B. Model TF-IDF"
   ]
  },
  {
   "cell_type": "code",
   "execution_count": null,
   "id": "951e1771",
   "metadata": {},
   "outputs": [],
   "source": [
    "from gensim.models.tfidfmodel import TfidfModel\n",
    "\n",
    "tfidf_corpus = TfidfModel(bow_corpus)"
   ]
  },
  {
   "cell_type": "code",
   "execution_count": null,
   "id": "bf620bed-76ff-4a77-89f8-a617aabc5b1e",
   "metadata": {},
   "outputs": [],
   "source": [
    "print(bow_corpus[0])"
   ]
  },
  {
   "cell_type": "code",
   "execution_count": null,
   "id": "fe359b37-0ab0-4172-bb12-6055e8b47676",
   "metadata": {},
   "outputs": [],
   "source": [
    "print(tfidf_corpus[bow_corpus[0]])"
   ]
  },
  {
   "cell_type": "markdown",
   "id": "c7986b0b-fb49-47a3-9b7f-2f438ba75832",
   "metadata": {},
   "source": [
    "Mimo, że token o id 15 występuje w dokumencie 1 raz, czyli dokładnie tyle samo razy co tokeny o id 1,2,3,..., to wartość przyporządkowana jemu w tfidf jest niższa. Widocznie ten token występuje częściej w innych dokumentach od pozostałych tokenów pierwszego dokumentu."
   ]
  },
  {
   "cell_type": "code",
   "execution_count": null,
   "id": "6b35a89d-0e9e-4ab9-8ea8-d8fe36621711",
   "metadata": {},
   "outputs": [],
   "source": [
    "dictionary[15]"
   ]
  }
 ],
 "metadata": {
  "kernelspec": {
   "display_name": "Python 3 (ipykernel)",
   "language": "python",
   "name": "python3"
  },
  "language_info": {
   "codemirror_mode": {
    "name": "ipython",
    "version": 3
   },
   "file_extension": ".py",
   "mimetype": "text/x-python",
   "name": "python",
   "nbconvert_exporter": "python",
   "pygments_lexer": "ipython3",
   "version": "3.11.1"
  }
 },
 "nbformat": 4,
 "nbformat_minor": 5
}
